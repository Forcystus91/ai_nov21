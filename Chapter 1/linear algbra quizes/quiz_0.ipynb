{
 "cells": [
  {
   "cell_type": "markdown",
   "metadata": {},
   "source": [
    "Vectors and Matrices\n",
    "Time to work! Do it with numpy first and then if you have time, manually by hand :)\n",
    "\n",
    "Vectors\n",
    "Lists can be used to represent mathematical vectors. In this exercise and several that follow you will write functions to perform standard operations on vectors. Create a file named vectors.py or use the Jupyter notebook provided\n",
    "\n",
    "Write a function add_vectors(u, v) that takes two lists of numbers of the same length, and returns a new list containing the sums of the corresponding elements of each.\n",
    "\n",
    "Note that the text in \"\"\" \"\"\" is provided for you to accurately verify that your function works :)"
   ]
  },
  {
   "cell_type": "code",
   "execution_count": 2,
   "metadata": {},
   "outputs": [],
   "source": [
    "import numpy as np\n",
    "import sys"
   ]
  },
  {
   "cell_type": "code",
   "execution_count": 13,
   "metadata": {},
   "outputs": [],
   "source": [
    "def add_vectors(u, v):\n",
    "    uv = []\n",
    "    if len(u) != len(v):\n",
    "        print(\"Vectors must be of equal length\")\n",
    "        return sys.exit(1)\n",
    "    for i in range(len(u)):\n",
    "        uv.append(u[i]+v[i])\n",
    "    return uv"
   ]
  },
  {
   "cell_type": "markdown",
   "metadata": {},
   "source": [
    "Write a function scalar_mult(s, v) that takes a number, s, and a list, v and returns the scalar multiple of v by s."
   ]
  },
  {
   "cell_type": "code",
   "execution_count": 17,
   "metadata": {},
   "outputs": [],
   "source": [
    "def scalar_mult(s, v):\n",
    "    \"\"\"\n",
    "    Takes some number 's' and a list 'v' and returns the scalar multiple of v by s\n",
    "    \"\"\"\n",
    "    scalar = []\n",
    "    for i in range(len(v)):\n",
    "        scalar.append(v[i]*s)\n",
    "    return scalar"
   ]
  },
  {
   "cell_type": "markdown",
   "metadata": {},
   "source": [
    "Write a function dot_product(u, v) that takes two lists of numbers of the same length, and returns the sum of the products of the corresponding elements of each (the dot product)."
   ]
  },
  {
   "cell_type": "code",
   "execution_count": 25,
   "metadata": {},
   "outputs": [],
   "source": [
    "def dot_product(u,v):\n",
    "    \"\"\"Takes two lists of numbers of equal length a\n",
    "    and returns the dot product\"\"\"\n",
    "    if len(u) != len(v):\n",
    "        print(\"Lists must have equal elements\")\n",
    "        return sys.exit(1)\n",
    "    \n",
    "    dot = 0\n",
    "    \n",
    "    for i in range(len(u)):\n",
    "        dot = dot + u[i]*v[i]\n",
    "    return dot"
   ]
  },
  {
   "cell_type": "markdown",
   "metadata": {},
   "source": [
    "### Matrices\n",
    "Create a new module named matrices.py or use the Jupyter notebook provided and add the following function, which returns a copy of nested lists of numbers such that the lists are not aliases:"
   ]
  },
  {
   "cell_type": "code",
   "execution_count": 26,
   "metadata": {},
   "outputs": [],
   "source": [
    "def copy_matrix(matrix):\n",
    "    \"\"\"Returns nested lists from \"\"\""
   ]
  },
  {
   "cell_type": "markdown",
   "metadata": {},
   "source": [
    "Write a function add_matrices(m1, m2) that adds m1 and m2 and returns a new matrix containing their sum. You can assume that m1 and m2 are the same size. You add two matrices by adding their corresponding values."
   ]
  },
  {
   "cell_type": "code",
   "execution_count": 28,
   "metadata": {},
   "outputs": [],
   "source": [
    "def add_matrices(m1,m2):\n",
    "    \"\"\"Adds to matrices together and returns their sum\"\"\"\n",
    "    matrix = []\n",
    "    for i in range(len(m1)):\n",
    "        v = []\n",
    "        for j in range(len(m1[i])):\n",
    "            v.append(m1[i][j]+m2[i][j])\n",
    "        matrix.append(v)\n",
    "    return matrix\n"
   ]
  },
  {
   "cell_type": "markdown",
   "metadata": {},
   "source": [
    "Write a function scalar_mult(s, m) that multiplies a matrix, m, by a scalar, s."
   ]
  },
  {
   "cell_type": "code",
   "execution_count": 33,
   "metadata": {},
   "outputs": [],
   "source": [
    "def scalar_mult(s,m):\n",
    "    \"\"\"Multplies a matrix, m, by a scalar, s.\"\"\"\n",
    "    matrix = []\n",
    "    for i in range(len(m)):\n",
    "        v = []\n",
    "        for j in range(len(m[i])):\n",
    "            v.append(s*m[i][j])\n",
    "        matrix.append(v)\n",
    "    return matrix"
   ]
  },
  {
   "cell_type": "markdown",
   "metadata": {},
   "source": [
    "Write functions row_times_column and matrix_mult:"
   ]
  },
  {
   "cell_type": "code",
   "execution_count": 37,
   "metadata": {},
   "outputs": [],
   "source": [
    "def row_times_column(m1,row,m2,column):\n",
    "    \"\"\"mutiplies the chosen row of m1 by the chosen \n",
    "    column of m2\"\"\"\n",
    "    # create the row vector\n",
    "    row_vect = m1[row]\n",
    "\n",
    "    # creat the column vector\n",
    "    col_vect = []\n",
    "    for i in range(len(m2)):\n",
    "        col_vect.append(m2[i][column])\n",
    "    \n",
    "    return dot_product(row_vect,col_vect)"
   ]
  },
  {
   "cell_type": "code",
   "execution_count": 51,
   "metadata": {},
   "outputs": [],
   "source": [
    "def matrix_mult(m1,m2):\n",
    "    \"\"\"Returns a matrix that is m1 * m2\"\"\"\n",
    "    matrix = []\n",
    "    for i in range(len(m1)):\n",
    "        v= []\n",
    "        for j in range(len(m2[0])):\n",
    "            v.append(row_times_column(m1,i,m2,j))\n",
    "        matrix.append(v)\n",
    "    return matrix\n"
   ]
  },
  {
   "cell_type": "code",
   "execution_count": 53,
   "metadata": {},
   "outputs": [
    {
     "name": "stdout",
     "output_type": "stream",
     "text": [
      "[[19, 22], [43, 50]]\n",
      "[[31, 19], [85, 55]]\n",
      "[[39, 54, 69], [13, 23, 33], [14, 19, 24]]\n"
     ]
    }
   ],
   "source": [
    "print(matrix_mult([[1, 2], [3,  4]], [[5, 6], [7, 8]]))\n",
    "print(matrix_mult([[1, 2, 3], [4,  5, 6]], [[7, 8], [9, 1], [2, 3]]))\n",
    "print(matrix_mult([[7, 8], [9, 1], [2, 3]], [[1, 2, 3], [4, 5, 6]]))"
   ]
  },
  {
   "cell_type": "code",
   "execution_count": null,
   "metadata": {},
   "outputs": [],
   "source": []
  }
 ],
 "metadata": {
  "interpreter": {
   "hash": "e171acd309c06983148c9856e741c79a7072f11ec9d548c93ae4f1382cc847af"
  },
  "kernelspec": {
   "display_name": "Python 3.8.12 64-bit ('strive': conda)",
   "language": "python",
   "name": "python3"
  },
  "language_info": {
   "codemirror_mode": {
    "name": "ipython",
    "version": 3
   },
   "file_extension": ".py",
   "mimetype": "text/x-python",
   "name": "python",
   "nbconvert_exporter": "python",
   "pygments_lexer": "ipython3",
   "version": "3.8.12"
  },
  "orig_nbformat": 4
 },
 "nbformat": 4,
 "nbformat_minor": 2
}
