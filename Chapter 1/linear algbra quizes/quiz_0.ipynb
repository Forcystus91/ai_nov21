{
 "cells": [
  {
   "cell_type": "markdown",
   "metadata": {},
   "source": [
    "Vectors and Matrices\n",
    "Time to work! Do it with numpy first and then if you have time, manually by hand :)\n",
    "\n",
    "Vectors\n",
    "Lists can be used to represent mathematical vectors. In this exercise and several that follow you will write functions to perform standard operations on vectors. Create a file named vectors.py or use the Jupyter notebook provided\n",
    "\n",
    "Write a function add_vectors(u, v) that takes two lists of numbers of the same length, and returns a new list containing the sums of the corresponding elements of each.\n",
    "\n",
    "Note that the text in \"\"\" \"\"\" is provided for you to accurately verify that your function works :)"
   ]
  },
  {
   "cell_type": "code",
   "execution_count": 12,
   "metadata": {},
   "outputs": [],
   "source": [
    "import numpy as np\n",
    "import sys"
   ]
  },
  {
   "cell_type": "code",
   "execution_count": 13,
   "metadata": {},
   "outputs": [],
   "source": [
    "def add_vectors(u, v):\n",
    "    uv = []\n",
    "    if len(u) != len(v):\n",
    "        print(\"Vectors must be of equal length\")\n",
    "        return sys.exit(1)\n",
    "    for i in range(len(u)):\n",
    "        uv.append(u[i]+v[i])\n",
    "    return uv"
   ]
  },
  {
   "cell_type": "code",
   "execution_count": 34,
   "metadata": {},
   "outputs": [
    {
     "name": "stdout",
     "output_type": "stream",
     "text": [
      "[2, 1] [2, 6] [2, 6, 4] [13, -4, 13, 5] [2, 3, 4]\n"
     ]
    }
   ],
   "source": [
    "# Test add_vectors()\n",
    "a = [1, 2, 3]\n",
    "b = [1, 1, 1]\n",
    "print(\n",
    "    add_vectors([1, 0], [1, 1]),\n",
    "    add_vectors([1, 2], [1, 4]),\n",
    "    add_vectors([1, 2, 1], [1, 4, 3]),\n",
    "    add_vectors([11, 0, -4, 5], [2, -4, 17, 0]),\n",
    "    add_vectors(a, b)\n",
    ")"
   ]
  },
  {
   "cell_type": "markdown",
   "metadata": {},
   "source": [
    "Write a function scalar_mult(s, v) that takes a number, s, and a list, v and returns the scalar multiple of v by s."
   ]
  },
  {
   "cell_type": "code",
   "execution_count": 32,
   "metadata": {},
   "outputs": [],
   "source": [
    "def scalar_mult(s, v):\n",
    "    \"\"\"\n",
    "    Takes some number 's' and a list 'v' and returns the scalar multiple of v by s\n",
    "    \"\"\"\n",
    "    scalar = []\n",
    "    for i in range(len(v)):\n",
    "        scalar.append(v[i]*s)\n",
    "    return scalar"
   ]
  },
  {
   "cell_type": "code",
   "execution_count": 33,
   "metadata": {},
   "outputs": [
    {
     "name": "stdout",
     "output_type": "stream",
     "text": [
      "[5, 10]\n",
      "[3, 0, -3]\n",
      "[21, 0, 35, 77, 14]\n",
      "[4, 8, 12]\n"
     ]
    }
   ],
   "source": [
    "# Test for scalar_mult()\n",
    "print(scalar_mult(5, [1, 2]))\n",
    "print(scalar_mult(3, [1, 0, -1]))\n",
    "print(scalar_mult(7, [3, 0, 5, 11, 2]))\n",
    "a = [1, 2, 3]\n",
    "print(scalar_mult(4, a))"
   ]
  },
  {
   "cell_type": "markdown",
   "metadata": {},
   "source": [
    "Write a function dot_product(u, v) that takes two lists of numbers of the same length, and returns the sum of the products of the corresponding elements of each (the dot product)."
   ]
  },
  {
   "cell_type": "code",
   "execution_count": 15,
   "metadata": {},
   "outputs": [],
   "source": [
    "def dot_product(u,v):\n",
    "    \"\"\"Takes two lists of numbers of equal length a\n",
    "    and returns the dot product\"\"\"\n",
    "    if len(u) != len(v):\n",
    "        print(\"Lists must have equal elements\")\n",
    "        return sys.exit(1)\n",
    "    dot = 0\n",
    "    for i in range(len(u)):\n",
    "        dot = dot + u[i]*v[i]\n",
    "    return dot"
   ]
  },
  {
   "cell_type": "code",
   "execution_count": 30,
   "metadata": {},
   "outputs": [
    {
     "name": "stdout",
     "output_type": "stream",
     "text": [
      "2\n",
      "9\n",
      "12\n",
      "0\n"
     ]
    }
   ],
   "source": [
    "# Test for dot_product\n",
    "print(dot_product([1, 1], [1, 1]))\n",
    "print(dot_product([1, 2], [1, 4]))\n",
    "print(dot_product([1, 2, 1], [1, 4, 3]))\n",
    "print(dot_product([2, 0, -1, 1], [1, 5, 2, 0]))"
   ]
  },
  {
   "cell_type": "markdown",
   "metadata": {},
   "source": [
    "### Matrices\n",
    "Create a new module named matrices.py or use the Jupyter notebook provided and add the following function, which returns a copy of nested lists of numbers such that the lists are not aliases:"
   ]
  },
  {
   "cell_type": "code",
   "execution_count": 28,
   "metadata": {},
   "outputs": [],
   "source": [
    "def copy_matrix(matrix):\n",
    "    v = []\n",
    "    for i in range(len(matrix)-1):\n",
    "        if matrix[i] == matrix[i+1]:\n",
    "            print(\"Matrices are aliases\")\n",
    "            return\n",
    "    return matrix"
   ]
  },
  {
   "cell_type": "code",
   "execution_count": 29,
   "metadata": {},
   "outputs": [
    {
     "name": "stdout",
     "output_type": "stream",
     "text": [
      "[[1, 2], [3, 4]]\n",
      "[[1, 2, 3], [4, 5, 6]]\n",
      "[[1, 2], [3, 4], [5, 6], [7, 8]]\n"
     ]
    }
   ],
   "source": [
    "# Test for copy_matrix()\n",
    "print(copy_matrix([[1, 2], [3, 4]]))\n",
    "print(copy_matrix([[1, 2, 3], [4, 5, 6]]))\n",
    "print(copy_matrix([[1, 2], [3, 4], [5, 6], [7, 8]]))"
   ]
  },
  {
   "cell_type": "markdown",
   "metadata": {},
   "source": [
    "Write a function add_matrices(m1, m2) that adds m1 and m2 and returns a new matrix containing their sum. You can assume that m1 and m2 are the same size. You add two matrices by adding their corresponding values."
   ]
  },
  {
   "cell_type": "code",
   "execution_count": 17,
   "metadata": {},
   "outputs": [],
   "source": [
    "def add_matrices(m1,m2):\n",
    "    \"\"\"Adds to matrices together and returns their sum\"\"\"\n",
    "    matrix = []\n",
    "    for i in range(len(m1)):\n",
    "        v = []\n",
    "        for j in range(len(m1[i])):\n",
    "            v.append(m1[i][j]+m2[i][j])\n",
    "        matrix.append(v)\n",
    "    return matrix\n"
   ]
  },
  {
   "cell_type": "code",
   "execution_count": 26,
   "metadata": {},
   "outputs": [
    {
     "name": "stdout",
     "output_type": "stream",
     "text": [
      "[[3, 4], [5, 6]]\n",
      "[[11, 4], [12, 6], [15, 19]]\n"
     ]
    }
   ],
   "source": [
    "# Test for add_matrices()\n",
    "a = [[1, 2], [3, 4]]\n",
    "b = [[2, 2], [2, 2]]\n",
    "print(add_matrices(a,b))\n",
    "c = [[8, 2], [3, 4], [5, 7]]\n",
    "d = [[3, 2], [9, 2], [10, 12]]\n",
    "print(add_matrices(c,d))"
   ]
  },
  {
   "cell_type": "markdown",
   "metadata": {},
   "source": [
    "Write a function scalar_mult(s, m) that multiplies a matrix, m, by a scalar, s."
   ]
  },
  {
   "cell_type": "code",
   "execution_count": 18,
   "metadata": {},
   "outputs": [],
   "source": [
    "def scalar_mult(s,m):\n",
    "    \"\"\"Multplies a matrix, m, by a scalar, s.\"\"\"\n",
    "    matrix = []\n",
    "    for i in range(len(m)):\n",
    "        v = []\n",
    "        for j in range(len(m[i])):\n",
    "            v.append(s*m[i][j])\n",
    "        matrix.append(v)\n",
    "    return matrix"
   ]
  },
  {
   "cell_type": "code",
   "execution_count": 25,
   "metadata": {},
   "outputs": [
    {
     "name": "stdout",
     "output_type": "stream",
     "text": [
      "[[3, 6], [9, 12]]\n",
      "[[30, 50, 70], [10, 10, 10], [0, 20, 0], [20, 20, 30]]\n"
     ]
    }
   ],
   "source": [
    "# Test for scalar_multi()\n",
    "a = [[1, 2], [3, 4]]\n",
    "b = [[3, 5, 7], [1, 1, 1], [0, 2, 0], [2, 2, 3]]\n",
    "print(scalar_mult(3, a))\n",
    "print(scalar_mult(10, b))"
   ]
  },
  {
   "cell_type": "markdown",
   "metadata": {},
   "source": [
    "Write functions row_times_column and matrix_mult:"
   ]
  },
  {
   "cell_type": "code",
   "execution_count": 19,
   "metadata": {},
   "outputs": [],
   "source": [
    "def row_times_column(m1,row,m2,column):\n",
    "    \"\"\"mutiplies the chosen row of m1 by the chosen \n",
    "    column of m2\"\"\"\n",
    "    # create the row vector\n",
    "    row_vect = m1[row]\n",
    "\n",
    "    # creat the column vector\n",
    "    col_vect = []\n",
    "    for i in range(len(m2)):\n",
    "        col_vect.append(m2[i][column])\n",
    "    \n",
    "    return dot_product(row_vect,col_vect)"
   ]
  },
  {
   "cell_type": "code",
   "execution_count": 20,
   "metadata": {},
   "outputs": [
    {
     "name": "stdout",
     "output_type": "stream",
     "text": [
      "19\n",
      "22\n",
      "43\n",
      "50\n"
     ]
    }
   ],
   "source": [
    "# Test for row_times_column()\n",
    "print(row_times_column([[1, 2], [3, 4]], 0, [[5, 6], [7, 8]], 0))\n",
    "print(row_times_column([[1, 2], [3, 4]], 0, [[5, 6], [7, 8]], 1))\n",
    "print(row_times_column([[1, 2], [3, 4]], 1, [[5, 6], [7, 8]], 0))\n",
    "print(row_times_column([[1, 2], [3, 4]], 1, [[5, 6], [7, 8]], 1))"
   ]
  },
  {
   "cell_type": "code",
   "execution_count": 21,
   "metadata": {},
   "outputs": [],
   "source": [
    "def matrix_mult(m1,m2):\n",
    "    \"\"\"Returns a matrix that is m1 * m2\"\"\"\n",
    "    matrix = []\n",
    "    for i in range(len(m1)):\n",
    "        v= []\n",
    "        for j in range(len(m2[0])):\n",
    "            v.append(row_times_column(m1,i,m2,j))\n",
    "        matrix.append(v)\n",
    "    return matrix\n"
   ]
  },
  {
   "cell_type": "code",
   "execution_count": 22,
   "metadata": {},
   "outputs": [
    {
     "name": "stdout",
     "output_type": "stream",
     "text": [
      "[[19, 22], [43, 50]]\n",
      "[[31, 19], [85, 55]]\n",
      "[[39, 54, 69], [13, 23, 33], [14, 19, 24]]\n"
     ]
    }
   ],
   "source": [
    "# Test for matrix_multi()\n",
    "print(matrix_mult([[1, 2], [3,  4]], [[5, 6], [7, 8]]))\n",
    "print(matrix_mult([[1, 2, 3], [4,  5, 6]], [[7, 8], [9, 1], [2, 3]]))\n",
    "print(matrix_mult([[7, 8], [9, 1], [2, 3]], [[1, 2, 3], [4, 5, 6]]))"
   ]
  },
  {
   "cell_type": "markdown",
   "metadata": {},
   "source": [
    "Write a function transpose that takes a matrix as an argument and returns is transpose:"
   ]
  },
  {
   "cell_type": "code",
   "execution_count": 23,
   "metadata": {},
   "outputs": [],
   "source": [
    "def transpose(m):\n",
    "    \"\"\"Transposes a matrix 'm'\"\"\"\n",
    "    matrix = []\n",
    "    for i in range(len(m[0])):\n",
    "        v = []\n",
    "        for j in range(len(m)):\n",
    "            v.append(m[j][i])\n",
    "        matrix.append(v)\n",
    "    return matrix\n",
    "\n"
   ]
  },
  {
   "cell_type": "code",
   "execution_count": 24,
   "metadata": {},
   "outputs": [
    {
     "name": "stdout",
     "output_type": "stream",
     "text": [
      "[[3], [4], [6]]\n",
      "[[3, 1], [4, 5], [6, 9]]\n"
     ]
    }
   ],
   "source": [
    "# Test for transpose()\n",
    "print(transpose([[3, 4, 6]]))\n",
    "print(transpose([[3, 4, 6], [1, 5, 9]]))"
   ]
  }
 ],
 "metadata": {
  "interpreter": {
   "hash": "e171acd309c06983148c9856e741c79a7072f11ec9d548c93ae4f1382cc847af"
  },
  "kernelspec": {
   "display_name": "Python 3.8.12 64-bit ('strive': conda)",
   "language": "python",
   "name": "python3"
  },
  "language_info": {
   "codemirror_mode": {
    "name": "ipython",
    "version": 3
   },
   "file_extension": ".py",
   "mimetype": "text/x-python",
   "name": "python",
   "nbconvert_exporter": "python",
   "pygments_lexer": "ipython3",
   "version": "3.8.12"
  },
  "orig_nbformat": 4
 },
 "nbformat": 4,
 "nbformat_minor": 2
}
