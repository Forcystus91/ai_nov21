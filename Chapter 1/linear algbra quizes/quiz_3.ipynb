{
 "cells": [
  {
   "cell_type": "markdown",
   "metadata": {},
   "source": [
    "# Quiz 3"
   ]
  },
  {
   "cell_type": "code",
   "execution_count": 9,
   "metadata": {},
   "outputs": [],
   "source": [
    "import numpy as np\n",
    "import sys"
   ]
  },
  {
   "cell_type": "markdown",
   "metadata": {},
   "source": [
    "Let $A$ and $B$ be two square matrices of $3 x 3$\n",
    "\n",
    "$A = \\begin{bmatrix}3&1&2\\\\-5&4&1\\\\0&3&8\\end{bmatrix}$\n",
    "\n",
    "$B = \\begin{bmatrix}0&5&-1\\\\3&2&-1\\\\10&0.5&4\\end{bmatrix}$\n",
    "\n",
    "If $C = A*B$\n",
    "\n",
    "Create a program that can output:\n",
    "- What is the value of element c23 of Matrix C where $C=A*B$?\n",
    "- What is the value of element c23 of Matrix C where $C=B*A$?"
   ]
  },
  {
   "cell_type": "code",
   "execution_count": 10,
   "metadata": {},
   "outputs": [
    {
     "name": "stdout",
     "output_type": "stream",
     "text": [
      "Value of element c23 where =A*B is 5.0\n",
      "Value of element c23 where =B*A is 0.0\n"
     ]
    }
   ],
   "source": [
    "def value_c23(m1,m2):\n",
    "    c = np.dot(m1,m2)\n",
    "    return c[1][2]\n",
    "\n",
    "\n",
    "a = np.array([[3,1,2],[-5,4,1],[0,3,8]])\n",
    "b = np.array([[0,5,-1],[3,2,-1],[10,0.5,4]])\n",
    "print(f\"Value of element c23 where =A*B is {value_c23(a,b)}\")\n",
    "print(f\"Value of element c23 where =B*A is {value_c23(b,a)}\")"
   ]
  },
  {
   "cell_type": "code",
   "execution_count": 11,
   "metadata": {},
   "outputs": [
    {
     "data": {
      "text/plain": [
       "array([[ 0.29896907, -0.02061856, -0.07216495],\n",
       "       [ 0.41237113,  0.24742268, -0.13402062],\n",
       "       [-0.15463918, -0.09278351,  0.17525773]])"
      ]
     },
     "execution_count": 11,
     "metadata": {},
     "output_type": "execute_result"
    }
   ],
   "source": [
    "# Inverse matrix\n",
    "def inverse_matrix(matrix):\n",
    "    inv = np.linalg.inv(matrix)\n",
    "    return inv\n",
    "\n",
    "a = np.array([[3,1,2],[-5,4,1],[0,3,8]])\n",
    "inverse_matrix(a)"
   ]
  },
  {
   "cell_type": "markdown",
   "metadata": {},
   "source": [
    "What is the value of the $ijth$ element of Matrix $D$ if:\n",
    "\n",
    "$D = A + B - C$\n",
    "\n",
    "$A = \\begin{bmatrix}3&0.6&4&-3\\\\-1.3&4&0&8.6\\\\7&0&-8&0.006\\end{bmatrix}$\n",
    "\n",
    "$B = \\begin{bmatrix}3&-5.76&45&0\\\\2&-2&1.3&9\\\\-9&0&0&0\\end{bmatrix}$\n",
    "\n",
    "$C = \\begin{bmatrix}0&1009&-66.7849&90\\\\0&5&4&-0.07\\\\-7.7&0&0&0\\end{bmatrix}$\n",
    "\n",
    "- What is the value of the ijth element if $i = 2$ and $j = 3$/\n",
    "- What is the value of the ijth element if $i = 3$ and $j = 1$?"
   ]
  },
  {
   "cell_type": "code",
   "execution_count": 15,
   "metadata": {},
   "outputs": [],
   "source": [
    "def matrix_operation(*matrix,**kwargs):\n",
    "    matrices = []\n",
    "    for i in matrix:\n",
    "        matrices.append(i)\n",
    "    if kwargs['operation'] == 'addition':\n",
    "        def matrix_addition(m):\n",
    "            if len(m) == 2: # base case\n",
    "                add = np.add(m[0],m[1])\n",
    "                return add\n",
    "            else:\n",
    "                add = np.add(matrix_addition(m[:len(m)-1]),m[-1])\n",
    "                return add\n",
    "        return matrix_addition(matrix)\n",
    "\n",
    "    elif kwargs['operation'] == 'multiplication':\n",
    "        def dot_product(m):\n",
    "            if len(m) == 2:\n",
    "                dot = np.dot(m[0],m[1])\n",
    "                return dot\n",
    "            else:\n",
    "                dot = np.dot(dot_product(m[:len(m)-1]),m[-1])\n",
    "                return dot\n",
    "        return dot_product(matrix)\n",
    "\n",
    "    elif kwargs['operation'] == 'subtraction':\n",
    "        def matrix_subtraction(m):\n",
    "            if len(m) == 2: # base case\n",
    "                sub = np.subtract(m[0],m[1])\n",
    "                return sub\n",
    "            else:\n",
    "                sub = np.subtract(matrix_subtraction(m[:len(m)-1]),m[-1])\n",
    "                return sub\n",
    "        return matrix_subtraction(matrix)\n",
    "\n",
    "    elif kwargs['operation'] == 'inversion':\n",
    "        inverted = []\n",
    "        for matrices in matrix:\n",
    "            inverted.append(np.linalg.inv(matrices))\n",
    "        return inverted\n",
    "\n",
    "    else:\n",
    "        print(\"Include a valid keyword argument\")\n",
    "        return sys.exit(1)\n",
    "\n"
   ]
  },
  {
   "cell_type": "code",
   "execution_count": 13,
   "metadata": {},
   "outputs": [
    {
     "name": "stdout",
     "output_type": "stream",
     "text": [
      "the value at the ijth element for i=2 and j= 3 is -2.7\n",
      "the value at the ijth element for i=3 and j= 1 is 5.7\n"
     ]
    }
   ],
   "source": [
    "a = np.array([[3,0.6,4,-3],[-1.3,4,0,8.6],[7,0,-8,0.006]])\n",
    "b = np.array([[3,-5.76,45,0],[2,-2,1.3,9],[-9,0,0,0]])\n",
    "c = np.array([[0,1009,-66.7849,90],[0,5,4,-0.7],[-7.7,0,0,0]])\n",
    "\n",
    "x = matrix_operation(a,b,operation='addition')\n",
    "\n",
    "print(f\"the value at the ijth element for i=2 and j= 3 is {matrix_operation(x,c,operation='subtraction')[1][2]}\")\n",
    "print(f\"the value at the ijth element for i=3 and j= 1 is {matrix_operation(x,c,operation='subtraction')[2][0]}\")"
   ]
  },
  {
   "cell_type": "markdown",
   "metadata": {},
   "source": [
    "let $A$ be a matrix of $1 x 5$ and $B$ be a matrix of $5 x 3$.\n",
    "\n",
    "$A = \\begin{bmatrix}0.6&-15&2&5&98\\end{bmatrix}$\n",
    "\n",
    "$B = \\begin{bmatrix}2&2&-4\\\\9&-14&0\\\\13&-0.5&44\\\\1&9&4\\\\0&0&5\\end{bmatrix}$\n",
    "\n",
    "Notice that $A$ is actually a row vector! **A matrix with only one row or one column is a vector.**\n",
    "\n",
    "If $C = AxB$\n",
    "- How many rows will C have?\n",
    "- How many columns will C have?\n",
    "- What will be the value of c13?"
   ]
  },
  {
   "cell_type": "code",
   "execution_count": 14,
   "metadata": {},
   "outputs": [
    {
     "name": "stdout",
     "output_type": "stream",
     "text": [
      "[-102.8  255.2  595.6]\n",
      " C has 1 row.\n",
      " C has 3 columns.\n",
      " The valie of C at C13 is 595.6\n"
     ]
    }
   ],
   "source": [
    "a = np.array([0.6,-15,2,5,98])\n",
    "b = np.array([[2,2,-4],[9,-14,0],[13,-0.5,44],[1,9,4],[0,0,5]])\n",
    "c = matrix_operation(a,b,operation='multiplication')\n",
    "\n",
    "print(\n",
    "    f\"{c}\\n\",\n",
    "    f\"C has 1 row.\\n\",\n",
    "    f\"C has 3 columns.\\n\",\n",
    "    f\"The valie of C at C13 is {c[2]}\"\n",
    ")"
   ]
  }
 ],
 "metadata": {
  "interpreter": {
   "hash": "e171acd309c06983148c9856e741c79a7072f11ec9d548c93ae4f1382cc847af"
  },
  "kernelspec": {
   "display_name": "Python 3.8.12 64-bit ('strive': conda)",
   "language": "python",
   "name": "python3"
  },
  "language_info": {
   "codemirror_mode": {
    "name": "ipython",
    "version": 3
   },
   "file_extension": ".py",
   "mimetype": "text/x-python",
   "name": "python",
   "nbconvert_exporter": "python",
   "pygments_lexer": "ipython3",
   "version": "3.8.12"
  },
  "orig_nbformat": 4
 },
 "nbformat": 4,
 "nbformat_minor": 2
}
