{
 "cells": [
  {
   "cell_type": "markdown",
   "metadata": {},
   "source": [
    "# Linear Algebra Quiz #1"
   ]
  },
  {
   "cell_type": "code",
   "execution_count": 1,
   "metadata": {},
   "outputs": [],
   "source": [
    "import numpy as np\n",
    "import sys"
   ]
  },
  {
   "cell_type": "markdown",
   "metadata": {},
   "source": [
    "Let's look at a three dimentional vector:\n",
    "\n",
    "$\\vec{x} = \\begin{bmatrix}a \\\\ b \\\\ c\\end{bmatrix}$\n",
    "What is the magnitude of vector x?\n",
    "\n",
    "$||x|| = \\sqrt{a^{2}+b^{2}+c^{2}}$"
   ]
  },
  {
   "cell_type": "code",
   "execution_count": 6,
   "metadata": {},
   "outputs": [],
   "source": [
    "# type a function that given a 3_dimensional vector it is able to calculate its magnitude\n",
    "\n",
    "def magnitude_3(a,b,c):\n",
    "    v = np.array([a,b,c])\n",
    "    return np.linalg.norm(v)\n",
    "    \n",
    "# type a function that given a n_dimensional vector it is able to calculate its magnitude\n",
    "def magnitude_complete(*argv):\n",
    "    v = []\n",
    "    for arg in argv:\n",
    "        v.append(arg)\n",
    "    result = np.linalg.norm(v)\n",
    "    return result"
   ]
  },
  {
   "cell_type": "code",
   "execution_count": 7,
   "metadata": {},
   "outputs": [],
   "source": [
    "assert magnitude_complete(1) == 1.0\n",
    "assert magnitude_complete(1,2) >= 2.236\n",
    "assert magnitude_complete(1,2,3) >= 3.741\n",
    "assert magnitude_complete(1,2,3,4,5) >= 5.477\n",
    "assert magnitude_complete(1,2,3,4,5) >= 7.416"
   ]
  },
  {
   "cell_type": "markdown",
   "metadata": {},
   "source": [
    "Let's look at the following two vectors:\n",
    "\n",
    "$\\vec{x} = \\begin{bmatrix}5\\\\1\\end{bmatrix}$\n",
    "$\\vec{y} = \\begin{bmatrix}-4\\\\-1\\end{bmatrix}$\n",
    "What is the magnitude and directiom of $\\vec{x}+\\vec{y}$?"
   ]
  },
  {
   "cell_type": "code",
   "execution_count": 21,
   "metadata": {},
   "outputs": [
    {
     "name": "stdout",
     "output_type": "stream",
     "text": [
      "The magnitude of [5 1] + [-4 -1] is 1.0 and the direction is 3.0940095503128133\n"
     ]
    }
   ],
   "source": [
    "\n",
    "# or if you want to do it all in one batch:\n",
    "def magdir_vectors(a, b):\n",
    "    #checks that size is equal\n",
    "    if len(a) != len(b):\n",
    "        print(\"Unequal vectors\")\n",
    "        return sys.exit(1)\n",
    "    magnitude = np.linalg.norm(np.add(a,b))\n",
    "    norm_a = np.linalg.norm(a)\n",
    "    norm_b = np.linalg.norm(b)  \n",
    "    direction =   np.arccos((np.dot(a,b))/(norm_a*norm_b))\n",
    "    print(f\"The magnitude of {a} + {b} is {magnitude} and the direction is {direction}\")\n",
    "    #returns the magnitude and direction \n",
    "    # as alternative, print them in a nicely printed format like:\n",
    "    #\"The magnitude of a + b is X and the direction is Y\"\n",
    "\n",
    "x = np.array([5,1])\n",
    "y = np.array([-4,-1])\n",
    "magdir_vectors(x,y)"
   ]
  },
  {
   "cell_type": "markdown",
   "metadata": {},
   "source": [
    "The following is a 2D vector:\n",
    "\n",
    "$\\vec{x} = \\begin{bmatrix}a\\\\ b \\end{bmatrix}$\n",
    "- What is the magnitude of $\\alpha\\vec{x}$?\n",
    "- if $\\alpha > 0$, will the direction of the resulting vector change?\n",
    "- if $\\alpha < 0$, will the direction of the resulting vector change?\n",
    "- If $-1< \\alpha > 1$, will $||\\alpha||$ increase, decrease or stay the same?"
   ]
  },
  {
   "cell_type": "code",
   "execution_count": 24,
   "metadata": {},
   "outputs": [],
   "source": [
    "def alpha_magnitude(alpha, b):\n",
    "    v = alpha * b\n",
    "    magnitude = np.linalg.norm(v)\n",
    "    return magnitude\n",
    "    #returns the resulting magnitude"
   ]
  },
  {
   "cell_type": "markdown",
   "metadata": {},
   "source": [
    "### For the above exercise, write down in markdown or in a comment if the direction has changed and what has happened to the vector."
   ]
  },
  {
   "cell_type": "markdown",
   "metadata": {},
   "source": [
    "The $||\\alpha\\vec{x}$ is $\\sqrt{(\\alpha x)^{2}}$\n",
    "\n",
    "If $\\alpha > 0$, the direction will stay the same.\n",
    "\n",
    "If $\\alpha < 0$,  the direction will change.\n",
    "\n",
    "If $-1< \\alpha > 1$, The direction will stay the same."
   ]
  }
 ],
 "metadata": {
  "interpreter": {
   "hash": "e171acd309c06983148c9856e741c79a7072f11ec9d548c93ae4f1382cc847af"
  },
  "kernelspec": {
   "display_name": "Python 3.8.12 64-bit ('strive': conda)",
   "language": "python",
   "name": "python3"
  },
  "language_info": {
   "codemirror_mode": {
    "name": "ipython",
    "version": 3
   },
   "file_extension": ".py",
   "mimetype": "text/x-python",
   "name": "python",
   "nbconvert_exporter": "python",
   "pygments_lexer": "ipython3",
   "version": "3.8.12"
  },
  "orig_nbformat": 4
 },
 "nbformat": 4,
 "nbformat_minor": 2
}
