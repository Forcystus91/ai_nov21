{
 "cells": [
  {
   "cell_type": "markdown",
   "metadata": {},
   "source": [
    "In this activity, you will submit your work. Add your submission below.\n",
    "\n",
    " \n",
    "\n",
    "Exercise:\n",
    "\n",
    "Extract the 5 days, day and night (10 entries) of weather from Los Angeles in weather.gov.\n",
    "\n",
    "inspect with the console\n",
    "\n",
    "write code to target the right elements of the text\n",
    "\n",
    "For each day, you need to store:\n",
    "\n",
    "The day of the week (Tuesday)\n",
    "\n",
    "The date (28/09/2020)\n",
    "\n",
    "A short description of the conditions (Clear early then increasing cloudiness after midnight. Low 41F. Winds light and variable)\n",
    "\n",
    "The temperature low and high, with a function of your own to convert into Celsius\n",
    "\n",
    "Save all of this into a Pandas dataframe"
   ]
  },
  {
   "cell_type": "code",
   "execution_count": 60,
   "metadata": {},
   "outputs": [
    {
     "name": "stdout",
     "output_type": "stream",
     "text": [
      "<Response [200]>\n"
     ]
    }
   ],
   "source": [
    "import requests\n",
    "from bs4 import BeautifulSoup\n",
    "import pandas as pd\n",
    "\n",
    "page = requests.get('https://forecast.weather.gov/MapClick.php?lat=34.053570000000036&lon=-118.24544999999995#.YbC7Q73MIuX')\n",
    "print(page)\n",
    "soup = BeautifulSoup(page.content,'html.parser')"
   ]
  },
  {
   "cell_type": "code",
   "execution_count": 68,
   "metadata": {},
   "outputs": [],
   "source": [
    "# Scraping site for data\n",
    "days = soup.find_all('p',class_='period-name')\n",
    "descriptions = soup.find_all('p',class_=\"short-desc\")\n",
    "temp_high = soup.find_all('p',class_='temp temp-high')\n",
    "temp_low = soup.find_all('p',class_='temp temp-low')"
   ]
  },
  {
   "cell_type": "code",
   "execution_count": 69,
   "metadata": {},
   "outputs": [],
   "source": [
    "# Creating lists\n",
    "days_list = []\n",
    "descriptions_list = []\n",
    "temp_list = []\n",
    "\n",
    "for i in range(len(days)):\n",
    "    days_list.append(days[i].text)\n",
    "    descriptions_list.append(descriptions[i].text)\n",
    "\n",
    "for i in range(len(temp_high)):\n",
    "    temp_list.append(int(temp_high[i].text.strip('High:, , °F')))\n",
    "    if i < len(temp_low):\n",
    "        temp_list.append(int(temp_low[i].text.strip('Low:, , °F')))"
   ]
  },
  {
   "cell_type": "code",
   "execution_count": 71,
   "metadata": {},
   "outputs": [],
   "source": [
    "# converting temperature to celsius\n",
    "def farhenheit_to_celsius(farh):\n",
    "    celsius = (farh - 32) * (5/9)\n",
    "    return f'{int(celsius)}\\N{DEGREE SIGN}C'\n",
    "\n",
    "temp_in_celsius = []\n",
    "for i in range(len(temp_list)):\n",
    "    temp_in_celsius.append(farhenheit_to_celsius(temp_list[i]))"
   ]
  },
  {
   "cell_type": "code",
   "execution_count": 74,
   "metadata": {},
   "outputs": [
    {
     "data": {
      "text/html": [
       "<div>\n",
       "<style scoped>\n",
       "    .dataframe tbody tr th:only-of-type {\n",
       "        vertical-align: middle;\n",
       "    }\n",
       "\n",
       "    .dataframe tbody tr th {\n",
       "        vertical-align: top;\n",
       "    }\n",
       "\n",
       "    .dataframe thead th {\n",
       "        text-align: right;\n",
       "    }\n",
       "</style>\n",
       "<table border=\"1\" class=\"dataframe\">\n",
       "  <thead>\n",
       "    <tr style=\"text-align: right;\">\n",
       "      <th></th>\n",
       "      <th>Day of the Week</th>\n",
       "      <th>Description</th>\n",
       "      <th>Temperature</th>\n",
       "    </tr>\n",
       "  </thead>\n",
       "  <tbody>\n",
       "    <tr>\n",
       "      <th>0</th>\n",
       "      <td>Today</td>\n",
       "      <td>Mostly Sunny</td>\n",
       "      <td>17°C</td>\n",
       "    </tr>\n",
       "    <tr>\n",
       "      <th>1</th>\n",
       "      <td>Tonight</td>\n",
       "      <td>Chance Rainthen Rain</td>\n",
       "      <td>11°C</td>\n",
       "    </tr>\n",
       "    <tr>\n",
       "      <th>2</th>\n",
       "      <td>Thursday</td>\n",
       "      <td>Rain</td>\n",
       "      <td>14°C</td>\n",
       "    </tr>\n",
       "    <tr>\n",
       "      <th>3</th>\n",
       "      <td>ThursdayNight</td>\n",
       "      <td>Partly Cloudy</td>\n",
       "      <td>5°C</td>\n",
       "    </tr>\n",
       "    <tr>\n",
       "      <th>4</th>\n",
       "      <td>Friday</td>\n",
       "      <td>Sunny</td>\n",
       "      <td>16°C</td>\n",
       "    </tr>\n",
       "    <tr>\n",
       "      <th>5</th>\n",
       "      <td>FridayNight</td>\n",
       "      <td>Mostly Clear</td>\n",
       "      <td>5°C</td>\n",
       "    </tr>\n",
       "    <tr>\n",
       "      <th>6</th>\n",
       "      <td>Saturday</td>\n",
       "      <td>Sunny</td>\n",
       "      <td>17°C</td>\n",
       "    </tr>\n",
       "    <tr>\n",
       "      <th>7</th>\n",
       "      <td>SaturdayNight</td>\n",
       "      <td>Mostly Clear</td>\n",
       "      <td>6°C</td>\n",
       "    </tr>\n",
       "    <tr>\n",
       "      <th>8</th>\n",
       "      <td>Sunday</td>\n",
       "      <td>Sunny</td>\n",
       "      <td>16°C</td>\n",
       "    </tr>\n",
       "  </tbody>\n",
       "</table>\n",
       "</div>"
      ],
      "text/plain": [
       "  Day of the Week           Description Temperature\n",
       "0           Today          Mostly Sunny        17°C\n",
       "1         Tonight  Chance Rainthen Rain        11°C\n",
       "2        Thursday                  Rain        14°C\n",
       "3   ThursdayNight         Partly Cloudy         5°C\n",
       "4          Friday                 Sunny        16°C\n",
       "5     FridayNight          Mostly Clear         5°C\n",
       "6        Saturday                 Sunny        17°C\n",
       "7   SaturdayNight          Mostly Clear         6°C\n",
       "8          Sunday                 Sunny        16°C"
      ]
     },
     "execution_count": 74,
     "metadata": {},
     "output_type": "execute_result"
    }
   ],
   "source": [
    "dates_list = pd.date_range('2021-12-08','2021-12-11')\n",
    "\n",
    "forecast = pd.DataFrame({\n",
    "    'Day of the Week':days_list,\n",
    "    'Description':descriptions_list,\n",
    "    'Temperature':temp_in_celsius\n",
    "})\n",
    "forecast"
   ]
  }
 ],
 "metadata": {
  "interpreter": {
   "hash": "e171acd309c06983148c9856e741c79a7072f11ec9d548c93ae4f1382cc847af"
  },
  "kernelspec": {
   "display_name": "Python 3.8.12 64-bit ('strive': conda)",
   "language": "python",
   "name": "python3"
  },
  "language_info": {
   "codemirror_mode": {
    "name": "ipython",
    "version": 3
   },
   "file_extension": ".py",
   "mimetype": "text/x-python",
   "name": "python",
   "nbconvert_exporter": "python",
   "pygments_lexer": "ipython3",
   "version": "3.8.12"
  },
  "orig_nbformat": 4
 },
 "nbformat": 4,
 "nbformat_minor": 2
}
